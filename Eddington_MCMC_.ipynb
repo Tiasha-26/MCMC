{
  "cells": [
    {
      "cell_type": "code",
      "execution_count": 1,
      "metadata": {
        "id": "HtsfCwb0Wj6g"
      },
      "outputs": [],
      "source": [
        "import numpy as np\n",
        "import matplotlib.pyplot as plt\n",
        "import pandas as pd\n",
        "plt.rc(\"xtick\",labelsize = 15)\n",
        "plt.rc(\"ytick\",labelsize = 15)\n",
        "\n",
        "# for Animation \n",
        "from matplotlib.animation import FuncAnimation\n",
        "from matplotlib import rc\n",
        "from IPython.display import HTML , Image # for gif \n",
        "rc(\"animation\" , html = \"html5\")"
      ]
    },
    {
      "cell_type": "code",
      "execution_count": 2,
      "metadata": {
        "id": "ssn107duWnhv"
      },
      "outputs": [],
      "source": [
        "data = pd.read_excel('/content/ed.xlsx')  \n",
        "data1 = data.to_numpy()  \n",
        "data2 = data1.reshape(7,6)\n",
        "x_data = data2[:,0]\n",
        "y_data = data2[:,1]\n",
        "Ex_data = data2[:,2]\n",
        "Ey_data = data2[:,3]\n",
        "Dx = data2[:,4]\n",
        "Dy = data2[:,5]"
      ]
    },
    {
      "cell_type": "code",
      "execution_count": 3,
      "metadata": {
        "id": "2KL1Zdw2ufnQ",
        "colab": {
          "base_uri": "https://localhost:8080/",
          "height": 269
        },
        "outputId": "2aff478d-f78b-4e6c-f53c-6bed3bf3dfcd"
      },
      "outputs": [
        {
          "output_type": "execute_result",
          "data": {
            "text/plain": [
              "       x      y     Ex     Ey  Dx_obs_uncorrected  Dy_obs_uncorrected\n",
              "0 -1.261 -0.160 -0.587  0.036              -1.416              -1.324\n",
              "1 -0.160 -1.107 -0.557 -0.789              -1.221              -1.312\n",
              "2  0.334  0.472 -0.186  1.336              -1.054              -0.944\n",
              "3  0.348  0.360 -0.222  1.574              -1.079              -0.862\n",
              "4  0.587  1.099  0.080  0.726              -1.012              -0.932\n",
              "5  0.860  1.321  0.158  0.589              -0.999              -0.948\n",
              "6  1.079 -0.328  1.540 -0.156              -0.733              -1.019"
            ],
            "text/html": [
              "\n",
              "  <div id=\"df-f7353853-9f62-4528-8c54-384af191fb34\">\n",
              "    <div class=\"colab-df-container\">\n",
              "      <div>\n",
              "<style scoped>\n",
              "    .dataframe tbody tr th:only-of-type {\n",
              "        vertical-align: middle;\n",
              "    }\n",
              "\n",
              "    .dataframe tbody tr th {\n",
              "        vertical-align: top;\n",
              "    }\n",
              "\n",
              "    .dataframe thead th {\n",
              "        text-align: right;\n",
              "    }\n",
              "</style>\n",
              "<table border=\"1\" class=\"dataframe\">\n",
              "  <thead>\n",
              "    <tr style=\"text-align: right;\">\n",
              "      <th></th>\n",
              "      <th>x</th>\n",
              "      <th>y</th>\n",
              "      <th>Ex</th>\n",
              "      <th>Ey</th>\n",
              "      <th>Dx_obs_uncorrected</th>\n",
              "      <th>Dy_obs_uncorrected</th>\n",
              "    </tr>\n",
              "  </thead>\n",
              "  <tbody>\n",
              "    <tr>\n",
              "      <th>0</th>\n",
              "      <td>-1.261</td>\n",
              "      <td>-0.160</td>\n",
              "      <td>-0.587</td>\n",
              "      <td>0.036</td>\n",
              "      <td>-1.416</td>\n",
              "      <td>-1.324</td>\n",
              "    </tr>\n",
              "    <tr>\n",
              "      <th>1</th>\n",
              "      <td>-0.160</td>\n",
              "      <td>-1.107</td>\n",
              "      <td>-0.557</td>\n",
              "      <td>-0.789</td>\n",
              "      <td>-1.221</td>\n",
              "      <td>-1.312</td>\n",
              "    </tr>\n",
              "    <tr>\n",
              "      <th>2</th>\n",
              "      <td>0.334</td>\n",
              "      <td>0.472</td>\n",
              "      <td>-0.186</td>\n",
              "      <td>1.336</td>\n",
              "      <td>-1.054</td>\n",
              "      <td>-0.944</td>\n",
              "    </tr>\n",
              "    <tr>\n",
              "      <th>3</th>\n",
              "      <td>0.348</td>\n",
              "      <td>0.360</td>\n",
              "      <td>-0.222</td>\n",
              "      <td>1.574</td>\n",
              "      <td>-1.079</td>\n",
              "      <td>-0.862</td>\n",
              "    </tr>\n",
              "    <tr>\n",
              "      <th>4</th>\n",
              "      <td>0.587</td>\n",
              "      <td>1.099</td>\n",
              "      <td>0.080</td>\n",
              "      <td>0.726</td>\n",
              "      <td>-1.012</td>\n",
              "      <td>-0.932</td>\n",
              "    </tr>\n",
              "    <tr>\n",
              "      <th>5</th>\n",
              "      <td>0.860</td>\n",
              "      <td>1.321</td>\n",
              "      <td>0.158</td>\n",
              "      <td>0.589</td>\n",
              "      <td>-0.999</td>\n",
              "      <td>-0.948</td>\n",
              "    </tr>\n",
              "    <tr>\n",
              "      <th>6</th>\n",
              "      <td>1.079</td>\n",
              "      <td>-0.328</td>\n",
              "      <td>1.540</td>\n",
              "      <td>-0.156</td>\n",
              "      <td>-0.733</td>\n",
              "      <td>-1.019</td>\n",
              "    </tr>\n",
              "  </tbody>\n",
              "</table>\n",
              "</div>\n",
              "      <button class=\"colab-df-convert\" onclick=\"convertToInteractive('df-f7353853-9f62-4528-8c54-384af191fb34')\"\n",
              "              title=\"Convert this dataframe to an interactive table.\"\n",
              "              style=\"display:none;\">\n",
              "        \n",
              "  <svg xmlns=\"http://www.w3.org/2000/svg\" height=\"24px\"viewBox=\"0 0 24 24\"\n",
              "       width=\"24px\">\n",
              "    <path d=\"M0 0h24v24H0V0z\" fill=\"none\"/>\n",
              "    <path d=\"M18.56 5.44l.94 2.06.94-2.06 2.06-.94-2.06-.94-.94-2.06-.94 2.06-2.06.94zm-11 1L8.5 8.5l.94-2.06 2.06-.94-2.06-.94L8.5 2.5l-.94 2.06-2.06.94zm10 10l.94 2.06.94-2.06 2.06-.94-2.06-.94-.94-2.06-.94 2.06-2.06.94z\"/><path d=\"M17.41 7.96l-1.37-1.37c-.4-.4-.92-.59-1.43-.59-.52 0-1.04.2-1.43.59L10.3 9.45l-7.72 7.72c-.78.78-.78 2.05 0 2.83L4 21.41c.39.39.9.59 1.41.59.51 0 1.02-.2 1.41-.59l7.78-7.78 2.81-2.81c.8-.78.8-2.07 0-2.86zM5.41 20L4 18.59l7.72-7.72 1.47 1.35L5.41 20z\"/>\n",
              "  </svg>\n",
              "      </button>\n",
              "      \n",
              "  <style>\n",
              "    .colab-df-container {\n",
              "      display:flex;\n",
              "      flex-wrap:wrap;\n",
              "      gap: 12px;\n",
              "    }\n",
              "\n",
              "    .colab-df-convert {\n",
              "      background-color: #E8F0FE;\n",
              "      border: none;\n",
              "      border-radius: 50%;\n",
              "      cursor: pointer;\n",
              "      display: none;\n",
              "      fill: #1967D2;\n",
              "      height: 32px;\n",
              "      padding: 0 0 0 0;\n",
              "      width: 32px;\n",
              "    }\n",
              "\n",
              "    .colab-df-convert:hover {\n",
              "      background-color: #E2EBFA;\n",
              "      box-shadow: 0px 1px 2px rgba(60, 64, 67, 0.3), 0px 1px 3px 1px rgba(60, 64, 67, 0.15);\n",
              "      fill: #174EA6;\n",
              "    }\n",
              "\n",
              "    [theme=dark] .colab-df-convert {\n",
              "      background-color: #3B4455;\n",
              "      fill: #D2E3FC;\n",
              "    }\n",
              "\n",
              "    [theme=dark] .colab-df-convert:hover {\n",
              "      background-color: #434B5C;\n",
              "      box-shadow: 0px 1px 3px 1px rgba(0, 0, 0, 0.15);\n",
              "      filter: drop-shadow(0px 1px 2px rgba(0, 0, 0, 0.3));\n",
              "      fill: #FFFFFF;\n",
              "    }\n",
              "  </style>\n",
              "\n",
              "      <script>\n",
              "        const buttonEl =\n",
              "          document.querySelector('#df-f7353853-9f62-4528-8c54-384af191fb34 button.colab-df-convert');\n",
              "        buttonEl.style.display =\n",
              "          google.colab.kernel.accessAllowed ? 'block' : 'none';\n",
              "\n",
              "        async function convertToInteractive(key) {\n",
              "          const element = document.querySelector('#df-f7353853-9f62-4528-8c54-384af191fb34');\n",
              "          const dataTable =\n",
              "            await google.colab.kernel.invokeFunction('convertToInteractive',\n",
              "                                                     [key], {});\n",
              "          if (!dataTable) return;\n",
              "\n",
              "          const docLinkHtml = 'Like what you see? Visit the ' +\n",
              "            '<a target=\"_blank\" href=https://colab.research.google.com/notebooks/data_table.ipynb>data table notebook</a>'\n",
              "            + ' to learn more about interactive tables.';\n",
              "          element.innerHTML = '';\n",
              "          dataTable['output_type'] = 'display_data';\n",
              "          await google.colab.output.renderOutput(dataTable, element);\n",
              "          const docLink = document.createElement('div');\n",
              "          docLink.innerHTML = docLinkHtml;\n",
              "          element.appendChild(docLink);\n",
              "        }\n",
              "      </script>\n",
              "    </div>\n",
              "  </div>\n",
              "  "
            ]
          },
          "metadata": {},
          "execution_count": 3
        }
      ],
      "source": [
        "data"
      ]
    },
    {
      "cell_type": "code",
      "execution_count": 4,
      "metadata": {
        "id": "9y063EMIunlM",
        "colab": {
          "base_uri": "https://localhost:8080/"
        },
        "outputId": "af3774a7-4df9-429a-fc07-e107a980f6a6"
      },
      "outputs": [
        {
          "output_type": "execute_result",
          "data": {
            "text/plain": [
              "array([-1.324, -1.312, -0.944, -0.862, -0.932, -0.948, -1.019])"
            ]
          },
          "metadata": {},
          "execution_count": 4
        }
      ],
      "source": [
        "Dy"
      ]
    },
    {
      "cell_type": "code",
      "execution_count": 5,
      "metadata": {
        "id": "dmGUHPSgpxyq"
      },
      "outputs": [],
      "source": [
        "def D(x,y,c,E,a,b,r):  # r = alpha \n",
        "  return (a*x) + (b*y) + c + (r*E)"
      ]
    },
    {
      "cell_type": "code",
      "execution_count": 6,
      "metadata": {
        "id": "-s5ShorFsRkF"
      },
      "outputs": [],
      "source": [
        "# def D_y(x,y,f,Ey,d,e,r):  # r = alpha \n",
        "#   return (d*x) + (e*y) + f + (r*Ey)"
      ]
    },
    {
      "cell_type": "code",
      "execution_count": 7,
      "metadata": {
        "id": "20S4rVXZrQnY"
      },
      "outputs": [],
      "source": [
        "def likelihood(x,y,Ex,Ey,a,b,c,d,e,f,r):   # log likelihood \n",
        "  s = 0.05\n",
        "  p = 1/(2*np.pi)\n",
        "  u = p/(s**2)\n",
        "  v = (-0.5)/(s**2)\n",
        "  z = 0\n",
        "  for i in range (len(x)):\n",
        "   z += np.log(u) + ( v * ((Dx[i] - D(x[i],y[i],c,Ex[i],a,b,r))**2)) + ( v * ((Dy[i] - D(x[i],y[i],f,Ey[i],d,e,r))**2))\n",
        "  return (z) "
      ]
    },
    {
      "cell_type": "code",
      "execution_count": 8,
      "metadata": {
        "id": "stP58eT2wgJd"
      },
      "outputs": [],
      "source": [
        "def  MCMC(sig,n):  # sig = sigma ,  n = no.of iterations\n",
        "  a0 ,b0, c0, d0, e0, f0, r0 = np.random.uniform(0,1,7)\n",
        "  r_hist = np.zeros(n)\n",
        "  r_hist[0] = r0\n",
        "  count = 0 \n",
        "  \n",
        "  for i in range (1,n):\n",
        "    a = np.random.normal(a0,sig)\n",
        "    b = np.random.normal(b0,sig) \n",
        "    c = np.random.normal(c0,sig)\n",
        "    d = np.random.normal(d0,sig)\n",
        "    e = np.random.normal(e0,sig) \n",
        "    f = np.random.normal(f0,sig)\n",
        "    r = np.random.normal(r0,sig)\n",
        "    h = np.exp(likelihood(x_data,y_data,Ex_data,Ey_data,a,b,c,d,e,f,r) - likelihood(x_data,y_data,Ex_data,Ey_data,a0,b0,c0,d0,e0,f0,r0))\n",
        "    #print(h)\n",
        "    h1 = min((h,1))\n",
        "\n",
        "    g = np.random.uniform(0,1)\n",
        "    \n",
        "    if g < h1:\n",
        "      a0,b0,c0,d0,e0,r0,f0 = a,b,c,d,e,r,f\n",
        "      #r_hist[i] = r\n",
        "      if i>=int(0.1 * n): # counting after burn-in\n",
        "        count += 1\n",
        "      \n",
        "      \n",
        "    else : \n",
        "      a0,b0,c0,d0,e0,r0,f0 = a0,b0,c0,d0,e0,r0,f0\n",
        "      #r_hist[i] = r0\n",
        "\n",
        "\n",
        "    r_hist[i] = r0\n",
        "   \n",
        "\n",
        "  return r_hist , count"
      ]
    },
    {
      "cell_type": "code",
      "execution_count": 9,
      "metadata": {
        "id": "X_RSNvT8BVOh",
        "colab": {
          "base_uri": "https://localhost:8080/"
        },
        "outputId": "92827226-ad84-4a28-881c-3a930520a4c1"
      },
      "outputs": [
        {
          "output_type": "stream",
          "name": "stderr",
          "text": [
            "<ipython-input-8-5752c79d97a3>:15: RuntimeWarning: overflow encountered in exp\n",
            "  h = np.exp(likelihood(x_data,y_data,Ex_data,Ey_data,a,b,c,d,e,f,r) - likelihood(x_data,y_data,Ex_data,Ey_data,a0,b0,c0,d0,e0,f0,r0))\n"
          ]
        }
      ],
      "source": [
        "r1, t = MCMC(0.05,4000)"
      ]
    },
    {
      "cell_type": "code",
      "execution_count": 10,
      "metadata": {
        "id": "rFpHZiOAB91K"
      },
      "outputs": [],
      "source": [
        "i = np.linspace(0,4000,4000)\n"
      ]
    },
    {
      "cell_type": "code",
      "source": [
        " \n",
        "plt.figure(figsize =(5,5))\n",
        "plt.title(\"scatter plot of $\\\\alpha$\")\n",
        "plt.scatter(i,r1,color =\"cyan\")\n",
        "plt.axvline(x=500,color=\"k\",label = \"burn-in line\")\n",
        "plt.legend()"
      ],
      "metadata": {
        "colab": {
          "base_uri": "https://localhost:8080/",
          "height": 360
        },
        "id": "NnB4iXiRqszS",
        "outputId": "961de9dd-0776-4806-9651-41c8af3d140a"
      },
      "execution_count": 11,
      "outputs": [
        {
          "output_type": "execute_result",
          "data": {
            "text/plain": [
              "<matplotlib.legend.Legend at 0x7f505594aa90>"
            ]
          },
          "metadata": {},
          "execution_count": 11
        },
        {
          "output_type": "display_data",
          "data": {
            "text/plain": [
              "<Figure size 360x360 with 1 Axes>"
            ],
            "image/png": "[encoded data removed]"
          },
          "metadata": {
            "needs_background": "light"
          }
        }
      ]
    },
    {
      "cell_type": "code",
      "source": [
        "n = 4000\n",
        "burn_in =int(0.1 * n)"
      ],
      "metadata": {
        "id": "5KcCyUCDrdHW"
      },
      "execution_count": 12,
      "outputs": []
    },
    {
      "cell_type": "code",
      "source": [
        "r_burn = r1[burn_in:] \n",
        "  \n",
        "acpt_no1 = t / n"
      ],
      "metadata": {
        "id": "h7BDMLRirma6"
      },
      "execution_count": 13,
      "outputs": []
    },
    {
      "cell_type": "code",
      "source": [
        "t"
      ],
      "metadata": {
        "colab": {
          "base_uri": "https://localhost:8080/"
        },
        "id": "moOOs3kjKtES",
        "outputId": "76f76e99-670f-42d7-ab0c-9b0f9dc1e02d"
      },
      "execution_count": 14,
      "outputs": [
        {
          "output_type": "execute_result",
          "data": {
            "text/plain": [
              "75"
            ]
          },
          "metadata": {},
          "execution_count": 14
        }
      ]
    },
    {
      "cell_type": "code",
      "source": [
        "print(\"acceptance ratio:\",acpt_no1)"
      ],
      "metadata": {
        "colab": {
          "base_uri": "https://localhost:8080/"
        },
        "id": "pos5vXvbyAcV",
        "outputId": "36ba744d-c6b7-467f-f5c7-d250fcb3520d"
      },
      "execution_count": 15,
      "outputs": [
        {
          "output_type": "stream",
          "name": "stdout",
          "text": [
            "acceptance ratio: 0.01875\n"
          ]
        }
      ]
    },
    {
      "cell_type": "code",
      "execution_count": 16,
      "metadata": {
        "id": "6iHsVU4eJ4cz",
        "colab": {
          "base_uri": "https://localhost:8080/",
          "height": 780
        },
        "outputId": "2927726e-386d-404c-f818-fbf48e63af2b"
      },
      "outputs": [
        {
          "output_type": "execute_result",
          "data": {
            "text/plain": [
              "(array([ 32.,   0.,  48.,  11., 108., 179., 437.,  40., 336., 561., 622.,\n",
              "        413., 176.,  98., 373.,  89.,  49.,   4.,   0.,  24.]),\n",
              " array([0.06383601, 0.07030407, 0.07677212, 0.08324018, 0.08970823,\n",
              "        0.09617629, 0.10264435, 0.1091124 , 0.11558046, 0.12204851,\n",
              "        0.12851657, 0.13498462, 0.14145268, 0.14792073, 0.15438879,\n",
              "        0.16085684, 0.1673249 , 0.17379295, 0.18026101, 0.18672907,\n",
              "        0.19319712]),\n",
              " <BarContainer object of 20 artists>)"
            ]
          },
          "metadata": {},
          "execution_count": 16
        },
        {
          "output_type": "display_data",
          "data": {
            "text/plain": [
              "<Figure size 720x720 with 1 Axes>"
            ],
            "image/png": "[encoded data removed]"
          },
          "metadata": {
            "needs_background": "light"
          }
        }
      ],
      "source": [
        "plt.figure(figsize =(10,10))\n",
        "plt.ylabel(\"counts\",fontsize = 20)\n",
        "plt.xlabel(\"values\",fontsize = 20)\n",
        "plt.title('$\\\\alpha$',fontsize = 20)\n",
        "plt.hist(r_burn,bins = 20,color = \"grey\")"
      ]
    },
    {
      "cell_type": "code",
      "source": [
        "m = np.mean(r_burn)\n",
        "var = np.std(r_burn)\n",
        "print(\"mean of alpha:\",m)\n",
        "print(\"variance of alpha:\",var**2)"
      ],
      "metadata": {
        "colab": {
          "base_uri": "https://localhost:8080/"
        },
        "id": "Ll8aTNMXsZ6k",
        "outputId": "e21afc98-4c0a-414f-835e-58533403f322"
      },
      "execution_count": 17,
      "outputs": [
        {
          "output_type": "stream",
          "name": "stdout",
          "text": [
            "mean of alpha: 0.12894348576854667\n",
            "variance of alpha: 0.0004244007927931944\n"
          ]
        }
      ]
    },
    {
      "cell_type": "code",
      "execution_count": 18,
      "metadata": {
        "id": "9prapkc-305d"
      },
      "outputs": [],
      "source": [
        "# for plotting \n",
        "# plt.figure (figsize = (20,20))\n",
        "# plt.subplot(1,2,1)\n",
        "# plt.xlabel(\"No. of iterations\" , fontsize = 20)\n",
        "# plt.ylabel(\" $\\alpha$ -values\",fontsize = 20)\n",
        "# plt.scatter(r2, color =\"grey\" )\n",
        "\n",
        "# plt.title('$\\alpha$(scatter plot)',fontsize= 20)\n",
        "\n",
        "\n",
        "# plt.subplot(1,2,2)\n",
        "# plt.ylabel(\"No.of occurence\",fontsize = 20)\n",
        "# plt.xlabel(\"$\\alpha$-values\",fontsize = 20)\n",
        "# plt.hist(r2,color =\"grey\" , bins = 100)\n",
        "\n",
        "# plt.title('$\\alpha$',fontsize = 20)"
      ]
    },
    {
      "cell_type": "code",
      "execution_count": 19,
      "metadata": {
        "id": "rnxlpYkNCDJw",
        "colab": {
          "base_uri": "https://localhost:8080/"
        },
        "outputId": "f25c42b0-c16c-4d9f-c114-d3708f6ddd18"
      },
      "outputs": [
        {
          "output_type": "stream",
          "name": "stderr",
          "text": [
            "<ipython-input-8-5752c79d97a3>:15: RuntimeWarning: overflow encountered in exp\n",
            "  h = np.exp(likelihood(x_data,y_data,Ex_data,Ey_data,a,b,c,d,e,f,r) - likelihood(x_data,y_data,Ex_data,Ey_data,a0,b0,c0,d0,e0,f0,r0))\n"
          ]
        }
      ],
      "source": [
        "n = 4000\n",
        "k = np.geomspace(0.001,5,50)\n",
        "acpt_ratio = []\n",
        "for j in range(len(k)): \n",
        "  r = MCMC(k[j],4000)[1]\n",
        "  \n",
        "  acpt_ratio.append(r/n)\n",
        "acpt_ratio_plot = np.asarray(acpt_ratio)\n",
        "# print(acpt_ratio_plot)"
      ]
    },
    {
      "cell_type": "code",
      "source": [
        "print(acpt_ratio_plot)"
      ],
      "metadata": {
        "colab": {
          "base_uri": "https://localhost:8080/"
        },
        "id": "tR4yxy552TRc",
        "outputId": "da4ea80c-bd1e-49c5-f4b4-64e1b592814b"
      },
      "execution_count": 20,
      "outputs": [
        {
          "output_type": "stream",
          "name": "stdout",
          "text": [
            "[5.1650e-01 5.3975e-01 5.3850e-01 5.1325e-01 5.8875e-01 5.7925e-01\n",
            " 5.9475e-01 6.4275e-01 6.7700e-01 6.4725e-01 6.2300e-01 5.8500e-01\n",
            " 5.6725e-01 5.1250e-01 4.5525e-01 3.9825e-01 3.2375e-01 2.5525e-01\n",
            " 1.8625e-01 1.3425e-01 9.5500e-02 5.2250e-02 2.5000e-02 1.3250e-02\n",
            " 5.7500e-03 6.7500e-03 2.2500e-03 1.2500e-03 7.5000e-04 1.2500e-03\n",
            " 1.0000e-03 7.5000e-04 1.7500e-03 0.0000e+00 7.5000e-04 2.5000e-04\n",
            " 5.0000e-04 7.5000e-04 7.5000e-04 2.5000e-04 5.0000e-04 2.5000e-04\n",
            " 1.0000e-03 5.0000e-04 2.5000e-04 0.0000e+00 5.0000e-04 5.0000e-04\n",
            " 2.5000e-04 2.5000e-04]\n"
          ]
        }
      ]
    },
    {
      "cell_type": "code",
      "source": [
        "plt.xlim(0,0.03)\n",
        "plt.plot(k,acpt_ratio_plot,color = \"r\")\n",
        "plt.title(\"acceptance ratio plot\")\n",
        "#plt.xscale('log')"
      ],
      "metadata": {
        "colab": {
          "base_uri": "https://localhost:8080/",
          "height": 303
        },
        "id": "h9EhagODxnsN",
        "outputId": "acda280e-7d48-4645-f153-9a4f8f4e3641"
      },
      "execution_count": 21,
      "outputs": [
        {
          "output_type": "execute_result",
          "data": {
            "text/plain": [
              "Text(0.5, 1.0, 'acceptance ratio plot')"
            ]
          },
          "metadata": {},
          "execution_count": 21
        },
        {
          "output_type": "display_data",
          "data": {
            "text/plain": [
              "<Figure size 432x288 with 1 Axes>"
            ],
            "image/png": "[encoded data removed]"
          },
          "metadata": {
            "needs_background": "light"
          }
        }
      ]
    },
    {
      "cell_type": "code",
      "source": [
        "plt.plot(k,acpt_ratio_plot)"
      ],
      "metadata": {
        "colab": {
          "base_uri": "https://localhost:8080/",
          "height": 287
        },
        "id": "KaOp-tTROkPy",
        "outputId": "d03991ca-fa0b-455f-815b-fcfe9a5ce77f"
      },
      "execution_count": 22,
      "outputs": [
        {
          "output_type": "execute_result",
          "data": {
            "text/plain": [
              "[<matplotlib.lines.Line2D at 0x7f5052ed0d00>]"
            ]
          },
          "metadata": {},
          "execution_count": 22
        },
        {
          "output_type": "display_data",
          "data": {
            "text/plain": [
              "<Figure size 432x288 with 1 Axes>"
            ],
            "image/png": "[encoded data removed]"
          },
          "metadata": {
            "needs_background": "light"
          }
        }
      ]
    }
  ],
  "metadata": {
    "colab": {
      "provenance": []
    },
    "kernelspec": {
      "display_name": "Python 3",
      "name": "python3"
    },
    "language_info": {
      "name": "python"
    }
  },
  "nbformat": 4,
  "nbformat_minor": 0
}